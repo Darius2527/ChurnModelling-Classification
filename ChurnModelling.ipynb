{
  "nbformat": 4,
  "nbformat_minor": 0,
  "metadata": {
    "colab": {
      "provenance": [],
      "authorship_tag": "ABX9TyPCmBv4PM/RONih/Z5ylx89",
      "include_colab_link": true
    },
    "kernelspec": {
      "name": "python3",
      "display_name": "Python 3"
    },
    "language_info": {
      "name": "python"
    }
  },
  "cells": [
    {
      "cell_type": "markdown",
      "metadata": {
        "id": "view-in-github",
        "colab_type": "text"
      },
      "source": [
        "<a href=\"https://colab.research.google.com/github/Darius2527/ChurnModelling-Classification/blob/main/ChurnModelling.ipynb\" target=\"_parent\"><img src=\"https://colab.research.google.com/assets/colab-badge.svg\" alt=\"Open In Colab\"/></a>"
      ]
    },
    {
      "cell_type": "code",
      "execution_count": null,
      "metadata": {
        "id": "khsMZc7uvnqm"
      },
      "outputs": [],
      "source": [
        "#LOADING THE DATASET\n",
        "import pandas as pd\n",
        "df=pd.read_csv('Churn_Modelling.csv')\n",
        "df.head()"
      ]
    },
    {
      "cell_type": "code",
      "source": [
        "df.shape"
      ],
      "metadata": {
        "id": "fJa3qDt1wKlH"
      },
      "execution_count": null,
      "outputs": []
    },
    {
      "cell_type": "code",
      "source": [
        "df.isnull().sum()\n",
        "#no null values present"
      ],
      "metadata": {
        "id": "gUt6aq8Lv2EI"
      },
      "execution_count": null,
      "outputs": []
    },
    {
      "cell_type": "code",
      "source": [
        "#lets drop unnecessary columns\n",
        "df=df.drop(columns=['RowNumber','CustomerId','Surname'])\n",
        "df.head()"
      ],
      "metadata": {
        "id": "qgYgXOtJv7nv"
      },
      "execution_count": null,
      "outputs": []
    },
    {
      "cell_type": "code",
      "source": [
        "#let us create dummy variables for Geography and Gender columns\n",
        "df=pd.get_dummies(data=df,drop_first=True)\n",
        "df.head()"
      ],
      "metadata": {
        "id": "_c5QMePP1IwZ"
      },
      "execution_count": null,
      "outputs": []
    },
    {
      "cell_type": "code",
      "source": [
        "df[\"Geography_Germany\"] = df[\"Geography_Germany\"].astype(int)\n",
        "df[\"Geography_Spain\"] = df[\"Geography_Spain\"].astype(int)\n",
        "df[\"Gender_Male\"]=df[\"Gender_Male\"].astype(int)\n",
        "df.head()"
      ],
      "metadata": {
        "id": "0ctDNtQR1gEK"
      },
      "execution_count": null,
      "outputs": []
    },
    {
      "cell_type": "code",
      "source": [
        "df[\"Exited\"].value_counts()\n",
        "#we can see that the data is inbalanced"
      ],
      "metadata": {
        "id": "tM49-pMI3244"
      },
      "execution_count": null,
      "outputs": []
    },
    {
      "cell_type": "code",
      "source": [
        "import seaborn as sns\n",
        "sns.heatmap(df.corr())"
      ],
      "metadata": {
        "id": "1i0gI9Kn2Xqz"
      },
      "execution_count": null,
      "outputs": []
    },
    {
      "cell_type": "code",
      "source": [
        "#extracting features and target\n",
        "X=df.drop(columns=[\"Exited\"])\n",
        "Y=df[\"Exited\"]"
      ],
      "metadata": {
        "id": "X83Dtser2lTo"
      },
      "execution_count": null,
      "outputs": []
    },
    {
      "cell_type": "code",
      "source": [
        "X"
      ],
      "metadata": {
        "id": "z5nIl03A36XA"
      },
      "execution_count": null,
      "outputs": []
    },
    {
      "cell_type": "code",
      "source": [
        "Y"
      ],
      "metadata": {
        "id": "SDVXeHR_366l"
      },
      "execution_count": null,
      "outputs": []
    },
    {
      "cell_type": "code",
      "source": [
        "#splitting dataset into training and test data\n",
        "from sklearn.model_selection import train_test_split\n",
        "X_train,X_test,Y_train,Y_test=train_test_split(X,Y,test_size=0.2,random_state=0)\n",
        "print(X_train.shape,Y_train.shape)\n",
        "print(X_test.shape,Y_test.shape)"
      ],
      "metadata": {
        "id": "4Ln3Q_5D4oLL"
      },
      "execution_count": null,
      "outputs": []
    },
    {
      "cell_type": "code",
      "source": [
        "#feature scaling\n",
        "from sklearn.preprocessing import StandardScaler\n",
        "sc=StandardScaler()\n",
        "sc.fit_transform(X_train)\n",
        "sc.transform(X_test)"
      ],
      "metadata": {
        "id": "wtrsek3-4wDu"
      },
      "execution_count": null,
      "outputs": []
    },
    {
      "cell_type": "code",
      "source": [
        "model_accuracy={}\n",
        "roc_score={}\n"
      ],
      "metadata": {
        "id": "HK8bgs0sxsMr"
      },
      "execution_count": null,
      "outputs": []
    },
    {
      "cell_type": "code",
      "source": [
        "#Logistic Regression model\n",
        "from sklearn.linear_model import LogisticRegression\n",
        "from sklearn.model_selection import GridSearchCV\n",
        "parameters={'penalty':['l1','l2','elastic',None],\n",
        "            'C':[0.01,0.05,0.1,0.5,1],\n",
        "            'tol':[1e-5,1e-4,1e-3,1e-2],\n",
        "            }\n",
        "clf=GridSearchCV(LogisticRegression(),parameters,cv=5)\n",
        "clf.fit(X_train,Y_train)"
      ],
      "metadata": {
        "id": "BavPrthreYMZ"
      },
      "execution_count": null,
      "outputs": []
    },
    {
      "cell_type": "code",
      "source": [
        "clf.cv_results_"
      ],
      "metadata": {
        "id": "6rKgIM1erE_n"
      },
      "execution_count": null,
      "outputs": []
    },
    {
      "cell_type": "code",
      "source": [
        "#checking best parameter\n",
        "best_params=clf.best_params_\n",
        "best_params"
      ],
      "metadata": {
        "id": "DFFhHXHKxFdz"
      },
      "execution_count": null,
      "outputs": []
    },
    {
      "cell_type": "code",
      "source": [
        "#creating model with best parameters\n",
        "model_LR=clf.best_estimator_\n",
        "model_LR.get_params()"
      ],
      "metadata": {
        "id": "8fx0-G3lxh2Y"
      },
      "execution_count": null,
      "outputs": []
    },
    {
      "cell_type": "code",
      "source": [
        "#predicting output for test data\n",
        "Y_pred=model_LR.predict(X_test)"
      ],
      "metadata": {
        "id": "rdUMmbGcx6zA"
      },
      "execution_count": null,
      "outputs": []
    },
    {
      "cell_type": "code",
      "source": [
        "#checking performance metrics\n",
        "from sklearn.metrics import accuracy_score,confusion_matrix,classification_report,roc_auc_score\n",
        "accuracy_LR=accuracy_score(Y_test,Y_pred)\n",
        "rocscore_LR=roc_auc_score(Y_test,Y_pred)\n",
        "model_accuracy[\"Logistic Regression\"]=accuracy_LR\n",
        "roc_score[\"Logistic Regression\"]=rocscore_LR\n",
        "print(accuracy_LR)\n",
        "print(rocscore_LR)\n",
        "print(confusion_matrix(Y_test,Y_pred))\n",
        "print(classification_report(Y_test,Y_pred))\n"
      ],
      "metadata": {
        "id": "v-NZPl3_0YNY"
      },
      "execution_count": null,
      "outputs": []
    },
    {
      "cell_type": "code",
      "source": [
        "#SVM Classifier\n",
        "from sklearn.svm import SVC\n",
        "parameters={'C':[0.1,0.5,1],\n",
        "            'kernel':['linear','poly','rbf']}\n",
        "clf=GridSearchCV(SVC(),parameters,cv=5)\n",
        "clf.fit(X_train,Y_train)\n"
      ],
      "metadata": {
        "id": "8mqeZSjZyTm2"
      },
      "execution_count": null,
      "outputs": []
    },
    {
      "cell_type": "code",
      "source": [
        "clf.cv_results_"
      ],
      "metadata": {
        "id": "vbK6IEx7vdTl"
      },
      "execution_count": null,
      "outputs": []
    },
    {
      "cell_type": "code",
      "source": [
        "best_params=clf.best_params_\n",
        "best_params"
      ],
      "metadata": {
        "id": "yby0q58cxMdh"
      },
      "execution_count": null,
      "outputs": []
    },
    {
      "cell_type": "code",
      "source": [
        "model_SVC=clf.best_estimator_\n",
        "model_SVC.get_params()"
      ],
      "metadata": {
        "id": "jNfSUzJlxQQP"
      },
      "execution_count": null,
      "outputs": []
    },
    {
      "cell_type": "code",
      "source": [
        "Y_pred=model_SVC.predict(X_test)"
      ],
      "metadata": {
        "id": "IuubJ4OwxVTH"
      },
      "execution_count": null,
      "outputs": []
    },
    {
      "cell_type": "code",
      "source": [
        "from sklearn.metrics import accuracy_score,confusion_matrix,classification_report,roc_auc_score\n",
        "accuracy_SVM=accuracy_score(Y_test,Y_pred)\n",
        "rocscore_SVM=roc_auc_score(Y_test,Y_pred)\n",
        "model_accuracy[\"SVM classifier\"]=accuracy_SVM\n",
        "roc_score[\"SVM classifier\"]=rocscore_SVM\n",
        "print(accuracy_SVM)\n",
        "print(rocscore_SVM)\n",
        "print(confusion_matrix(Y_test,Y_pred))\n",
        "print(classification_report(Y_test,Y_pred))\n"
      ],
      "metadata": {
        "id": "r9mZvoKcxV-Y"
      },
      "execution_count": null,
      "outputs": []
    },
    {
      "cell_type": "code",
      "source": [
        "#KNN\n",
        "from sklearn.neighbors import KNeighborsClassifier\n",
        "parameters={'n_neighbors':[3,5,7,9,11],\n",
        "            'p':[1,2],\n",
        "            'leaf_size':[10,20,30],\n",
        "            'weights':['uniform','auto'],}\n",
        "clf=GridSearchCV(KNeighborsClassifier(),parameters,cv=5)\n",
        "clf.fit(X_train,Y_train)"
      ],
      "metadata": {
        "id": "l0yIoF-fxZNV"
      },
      "execution_count": null,
      "outputs": []
    },
    {
      "cell_type": "code",
      "source": [
        "clf.cv_results_"
      ],
      "metadata": {
        "id": "ObkxYDS2zppk"
      },
      "execution_count": null,
      "outputs": []
    },
    {
      "cell_type": "code",
      "source": [
        "best_params=clf.best_params_\n",
        "best_params"
      ],
      "metadata": {
        "id": "FMkRfS3lzslq"
      },
      "execution_count": null,
      "outputs": []
    },
    {
      "cell_type": "code",
      "source": [
        "model_KNN=clf.best_estimator_\n",
        "model_KNN.get_params()"
      ],
      "metadata": {
        "id": "wNHe_Bgs0Sgw"
      },
      "execution_count": null,
      "outputs": []
    },
    {
      "cell_type": "code",
      "source": [
        "Y_pred=model_KNN.predict(X_test)"
      ],
      "metadata": {
        "id": "k6udgmRq0TAE"
      },
      "execution_count": null,
      "outputs": []
    },
    {
      "cell_type": "code",
      "source": [
        "from sklearn.metrics import accuracy_score,confusion_matrix,classification_report,roc_auc_score\n",
        "accuracy_KNN=accuracy_score(Y_test,Y_pred)\n",
        "rocscore_KNN=roc_auc_score(Y_test,Y_pred)\n",
        "model_accuracy[\"KNN\"]=accuracy_KNN\n",
        "roc_score[\"KNN\"]=rocscore_KNN\n",
        "print(accuracy_KNN)\n",
        "print(rocscore_KNN)\n",
        "print(confusion_matrix(Y_test,Y_pred))\n",
        "print(classification_report(Y_test,Y_pred))\n"
      ],
      "metadata": {
        "id": "h-Nif5Sd0Wdu"
      },
      "execution_count": null,
      "outputs": []
    },
    {
      "cell_type": "code",
      "source": [
        "#Naive Bayes Classifier\n",
        "#no hyperparameter tuning as naive bayes does not have any hyperparameters to tune\n",
        "#let us apply K fold cross validation for this model\n",
        "from sklearn.model_selection import cross_val_score\n",
        "from sklearn.naive_bayes import GaussianNB\n",
        "NB=GaussianNB()\n",
        "accuracy_NB=cross_val_score(NB,X,Y,cv=5,scoring='accuracy').mean()\n",
        "rocscore_NB=cross_val_score(NB,X,Y,cv=5,scoring='roc_auc').mean()\n",
        "model_accuracy[\"Naive Bayes Classifier\"]=accuracy_NB\n",
        "roc_score[\"Naive_Bayes_classifier\"]=rocscore_NB\n",
        "print(accuracy_NB)\n",
        "print(rocscore_NB)"
      ],
      "metadata": {
        "id": "mcmhxCTO9bUL"
      },
      "execution_count": null,
      "outputs": []
    },
    {
      "cell_type": "code",
      "source": [
        "#Random Forest\n",
        "from sklearn.ensemble import RandomForestClassifier\n",
        "parameters={'n_estimators':[50,100,250,500],\n",
        "            'criterion':['gini','entropy'],\n",
        "            'max_depth':[2,3,4,None]}\n",
        "clf=GridSearchCV(RandomForestClassifier(),parameters,cv=5)\n",
        "clf.fit(X_train,Y_train)"
      ],
      "metadata": {
        "id": "7Vt0QEfpGLc6"
      },
      "execution_count": null,
      "outputs": []
    },
    {
      "cell_type": "code",
      "source": [
        "clf.cv_results_"
      ],
      "metadata": {
        "id": "t1KI7l83HUXW"
      },
      "execution_count": null,
      "outputs": []
    },
    {
      "cell_type": "code",
      "source": [
        "best_params=clf.best_params_\n",
        "best_params"
      ],
      "metadata": {
        "id": "sByx7XyfHWzM"
      },
      "execution_count": null,
      "outputs": []
    },
    {
      "cell_type": "code",
      "source": [
        "model_RF=clf.best_estimator_\n",
        "model_RF.get_params()"
      ],
      "metadata": {
        "id": "aVURj9lTHZ8G"
      },
      "execution_count": null,
      "outputs": []
    },
    {
      "cell_type": "code",
      "source": [
        "Y_pred=model_RF.predict(X_test)"
      ],
      "metadata": {
        "id": "-y5WhLMIHnN_"
      },
      "execution_count": null,
      "outputs": []
    },
    {
      "cell_type": "code",
      "source": [
        "accuracy_RF=accuracy_score(Y_test,Y_pred)\n",
        "rocscore_RF=roc_auc_score(Y_test,Y_pred)\n",
        "model_accuracy[\"Random Forest\"]=accuracy_RF\n",
        "roc_score[\"Random Forest\"]=rocscore_RF\n",
        "print(accuracy_RF)\n",
        "print(rocscore_RF)\n",
        "print(confusion_matrix(Y_test,Y_pred))\n",
        "print(classification_report(Y_test,Y_pred))"
      ],
      "metadata": {
        "id": "qdN10MyAHqQD"
      },
      "execution_count": null,
      "outputs": []
    },
    {
      "cell_type": "code",
      "source": [
        "#AdaBoost Classifier\n",
        "from sklearn.ensemble import AdaBoostClassifier\n",
        "parameters={'n_estimators':[50,100,250,500],\n",
        "            'learning_rate':[0.1,0.25,0.5,0.75,1]}\n",
        "clf=GridSearchCV(AdaBoostClassifier(),parameters,cv=5)\n",
        "clf.fit(X_train,Y_train)"
      ],
      "metadata": {
        "id": "3xGVkWPdJmg1"
      },
      "execution_count": null,
      "outputs": []
    },
    {
      "cell_type": "code",
      "source": [
        "clf.cv_results_"
      ],
      "metadata": {
        "id": "AjuN-L8XKCuK"
      },
      "execution_count": null,
      "outputs": []
    },
    {
      "cell_type": "code",
      "source": [
        "best_params=clf.best_params_\n",
        "best_params"
      ],
      "metadata": {
        "id": "fQ7zgut1KFCQ"
      },
      "execution_count": null,
      "outputs": []
    },
    {
      "cell_type": "code",
      "source": [
        "model_adaboost=clf.best_estimator_\n",
        "model_adaboost.get_params()"
      ],
      "metadata": {
        "id": "98h0bxlmKHM4"
      },
      "execution_count": null,
      "outputs": []
    },
    {
      "cell_type": "code",
      "source": [
        "Y_pred=model_adaboost.predict(X_test)"
      ],
      "metadata": {
        "id": "6kxY_Ng9KNE4"
      },
      "execution_count": null,
      "outputs": []
    },
    {
      "cell_type": "code",
      "source": [
        "accuracy_adaboost=accuracy_score(Y_test,Y_pred)\n",
        "rocscore_adaboost=roc_auc_score(Y_test,Y_pred)\n",
        "model_accuracy[\"AdaBoost\"]=accuracy_adaboost\n",
        "roc_score[\"AdaBoost\"]=rocscore_adaboost\n",
        "print(accuracy_adaboost)\n",
        "print(rocscore_adaboost)\n",
        "print(confusion_matrix(Y_test,Y_pred))\n",
        "print(classification_report(Y_test,Y_pred))"
      ],
      "metadata": {
        "id": "T1KtUIcXKREn"
      },
      "execution_count": null,
      "outputs": []
    },
    {
      "cell_type": "code",
      "source": [
        "import matplotlib.pyplot as plt\n",
        "plt.figure(figsize=(10,5))\n",
        "plt.bar(model_accuracy.keys(),model_accuracy.values(),label=\"accuracy\",color='orange')\n",
        "plt.xlabel(\"Models\")\n",
        "plt.ylabel(\"Accuracy\")\n",
        "plt.show()"
      ],
      "metadata": {
        "id": "J5jQ2de_NuZB"
      },
      "execution_count": null,
      "outputs": []
    },
    {
      "cell_type": "code",
      "source": [
        "import matplotlib.pyplot as plt\n",
        "plt.figure(figsize=(10,5))\n",
        "plt.bar(roc_score.keys(),roc_score.values(),label=\"ROC score\",color='orange')\n",
        "plt.xlabel(\"Models\")\n",
        "plt.ylabel(\"Score\")\n",
        "plt.show()"
      ],
      "metadata": {
        "id": "90L_8BORPItd"
      },
      "execution_count": null,
      "outputs": []
    },
    {
      "cell_type": "code",
      "source": [
        "#AdaBoost has highest accuracy\n",
        "#Naive Bayes has highest ROC\n",
        "#accuracy can be improved if we obtain a balanced dataset using sampling techniques\n",
        "#accuracy can be improved by applying hyperparameter tuning across more alues for hyperparameters"
      ],
      "metadata": {
        "id": "cLYRYU-2PlDr"
      },
      "execution_count": null,
      "outputs": []
    },
    {
      "cell_type": "code",
      "source": [],
      "metadata": {
        "id": "L3nylBM4QnYT"
      },
      "execution_count": null,
      "outputs": []
    }
  ]
}